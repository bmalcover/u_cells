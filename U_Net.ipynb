{
 "nbformat": 4,
 "nbformat_minor": 0,
 "metadata": {
  "accelerator": "GPU",
  "colab": {
   "name": "U-Net.ipynb",
   "provenance": [],
   "collapsed_sections": [],
   "toc_visible": true
  },
  "kernelspec": {
   "display_name": "Python 3",
   "name": "python3"
  }
 },
 "cells": [
  {
   "cell_type": "code",
   "metadata": {
    "colab": {
     "base_uri": "https://localhost:8080/"
    },
    "id": "4m51n8GG_v7J",
    "outputId": "2b89b2c7-b7c1-472f-eef5-5418e9840f6c"
   },
   "source": [
    "#!wget -O dataset.zip https://www.dropbox.com/s/3zfz89hik6989h5/dataset.zip?dl=1\n",
    "!wget -O dataset_four.zip https://www.dropbox.com/s/0v6rdf3xhoge0vh/unet_color_quatre.zip?dl=1 \n",
    "#!wget -O dataset_gt.zip https://www.dropbox.com/s/wvjlpqykck6jwc6/unet_color_tres.zip?dl=1\n",
    "#!wget -O dataset_gros.zip https://www.dropbox.com/s/e7ndtiqce74gqli/sub.zip?dl=1\n",
    " \n",
    "#!unzip dataset.zip\n",
    "!unzip dataset_four.zip > /dev/null\n",
    "#!unzip dataset_gt.zip\n",
    "#!unzip dataset_gros.zip"
   ],
   "execution_count": null,
   "outputs": [
    {
     "output_type": "stream",
     "text": [
      "--2020-12-04 09:17:19--  https://www.dropbox.com/s/0v6rdf3xhoge0vh/unet_color_quatre.zip?dl=1\n",
      "Resolving www.dropbox.com (www.dropbox.com)... 162.125.6.1, 2620:100:601c:1::a27d:601\n",
      "Connecting to www.dropbox.com (www.dropbox.com)|162.125.6.1|:443... connected.\n",
      "HTTP request sent, awaiting response... 301 Moved Permanently\n",
      "Location: /s/dl/0v6rdf3xhoge0vh/unet_color_quatre.zip [following]\n",
      "--2020-12-04 09:17:19--  https://www.dropbox.com/s/dl/0v6rdf3xhoge0vh/unet_color_quatre.zip\n",
      "Reusing existing connection to www.dropbox.com:443.\n",
      "HTTP request sent, awaiting response... 302 Found\n",
      "Location: https://uc3591d9964906b1b3816349c126.dl.dropboxusercontent.com/cd/0/get/BEYxssxcWt3JbdczRv7-bPfTg-UUe3aH3bJW5RUiNl-Vc1MAnTY4s5z8-gxY8fGs83Ww8ONTQVSwPIjyd8gtO7wY6PC1R-fpuK5NR7EqZM9YpPymLSLsVViS1JXbNta6fLA/file?dl=1# [following]\n",
      "--2020-12-04 09:17:20--  https://uc3591d9964906b1b3816349c126.dl.dropboxusercontent.com/cd/0/get/BEYxssxcWt3JbdczRv7-bPfTg-UUe3aH3bJW5RUiNl-Vc1MAnTY4s5z8-gxY8fGs83Ww8ONTQVSwPIjyd8gtO7wY6PC1R-fpuK5NR7EqZM9YpPymLSLsVViS1JXbNta6fLA/file?dl=1\n",
      "Resolving uc3591d9964906b1b3816349c126.dl.dropboxusercontent.com (uc3591d9964906b1b3816349c126.dl.dropboxusercontent.com)... 162.125.4.15, 2620:100:6019:15::a27d:40f\n",
      "Connecting to uc3591d9964906b1b3816349c126.dl.dropboxusercontent.com (uc3591d9964906b1b3816349c126.dl.dropboxusercontent.com)|162.125.4.15|:443... connected.\n",
      "HTTP request sent, awaiting response... 200 OK\n",
      "Length: 146936667 (140M) [application/binary]\n",
      "Saving to: ‘dataset_four.zip’\n",
      "\n",
      "dataset_four.zip    100%[===================>] 140.13M  46.4MB/s    in 3.0s    \n",
      "\n",
      "2020-12-04 09:17:23 (46.4 MB/s) - ‘dataset_four.zip’ saved [146936667/146936667]\n",
      "\n",
      "--2020-12-04 09:17:23--  https://www.dropbox.com/s/y1ri6lzt01gwfke/source_files.zip?dl=1\n",
      "Resolving www.dropbox.com (www.dropbox.com)... 162.125.6.1, 2620:100:601c:1::a27d:601\n",
      "Connecting to www.dropbox.com (www.dropbox.com)|162.125.6.1|:443... connected.\n",
      "HTTP request sent, awaiting response... 301 Moved Permanently\n",
      "Location: /s/dl/y1ri6lzt01gwfke/source_files.zip [following]\n",
      "--2020-12-04 09:17:24--  https://www.dropbox.com/s/dl/y1ri6lzt01gwfke/source_files.zip\n",
      "Reusing existing connection to www.dropbox.com:443.\n",
      "HTTP request sent, awaiting response... 302 Found\n",
      "Location: https://uc265746fcf5d56d3e8d0342e02e.dl.dropboxusercontent.com/cd/0/get/BEaeQYu-DSBP_rR0iKc6F9OvYbnk13fgNsvTFYaFVjtnPgU4AkMpu4w6i8dsO0yn6WI66z6r7QsXZwBSQz3KWIDktxNW-YKOJeOLG57RvystR-v-AKOqwYBCGD8khtDKU5k/file?dl=1# [following]\n",
      "--2020-12-04 09:17:24--  https://uc265746fcf5d56d3e8d0342e02e.dl.dropboxusercontent.com/cd/0/get/BEaeQYu-DSBP_rR0iKc6F9OvYbnk13fgNsvTFYaFVjtnPgU4AkMpu4w6i8dsO0yn6WI66z6r7QsXZwBSQz3KWIDktxNW-YKOJeOLG57RvystR-v-AKOqwYBCGD8khtDKU5k/file?dl=1\n",
      "Resolving uc265746fcf5d56d3e8d0342e02e.dl.dropboxusercontent.com (uc265746fcf5d56d3e8d0342e02e.dl.dropboxusercontent.com)... 162.125.6.15, 2620:100:6017:15::a27d:20f\n",
      "Connecting to uc265746fcf5d56d3e8d0342e02e.dl.dropboxusercontent.com (uc265746fcf5d56d3e8d0342e02e.dl.dropboxusercontent.com)|162.125.6.15|:443... connected.\n",
      "HTTP request sent, awaiting response... 200 OK\n",
      "Length: 3713 (3.6K) [application/binary]\n",
      "Saving to: ‘source.zip’\n",
      "\n",
      "source.zip          100%[===================>]   3.63K  --.-KB/s    in 0s      \n",
      "\n",
      "2020-12-04 09:17:24 (200 MB/s) - ‘source.zip’ saved [3713/3713]\n",
      "\n",
      "Archive:  source.zip\n",
      "  inflating: data.py                 \n",
      "  inflating: model.py                \n"
     ],
     "name": "stdout"
    }
   ]
  },
  {
   "cell_type": "code",
   "metadata": {
    "id": "g4SSovO3EcTi"
   },
   "source": [
    "# %tensorflow_version 1.x\n",
    "import io\n",
    "from datetime import datetime\n",
    "\n",
    "from matplotlib import pyplot as plt\n",
    "\n",
    "from numpy.random import seed\n",
    "import tensorflow as tf\n",
    "from tensorflow.keras import metrics\n",
    "import keras\n",
    "import keras.backend as K\n",
    "from PIL import Image\n",
    "\n",
    "\n",
    "import numpy as np\n",
    "import cv2\n",
    "\n",
    "\n",
    "from model import *\n",
    "from data import *\n",
    "\n",
    "seed(1)\n",
    "#print(tf.__version__)"
   ],
   "execution_count": null,
   "outputs": []
  },
  {
   "cell_type": "code",
   "metadata": {
    "colab": {
     "base_uri": "https://localhost:8080/"
    },
    "id": "gNJR2CqeEUX9",
    "outputId": "8347b8f9-f870-4735-b66f-563825dd2dfe"
   },
   "source": [
    "test_path_root = \"./unet_color_quatre/test/image/\"\n",
    "test_path = test_path_root + \"*.png\"\n",
    "train_path = './unet_color_quatre/train'\n",
    "generator_path = None #'./generator/'\n",
    "tb_dir = \"./log/\" + datetime.now().strftime(\"%Y/%m/%d-%H:%M:%S\")\n",
    "# tb_cb = keras.callbacks.TensorBoard(tb_dir, write_graph=True, update_freq=10)\n",
    "\n",
    "\n",
    "data_gen_args = dict(rotation_range=0.2,\n",
    "\t\t\t\t\t\twidth_shift_range=0.05,\n",
    "\t\t\t\t\t\theight_shift_range=0.05,\n",
    "\t\t\t\t\t\tshear_range=0.05,\n",
    "\t\t\t\t\t\tzoom_range=0.05,\n",
    "\t\t\t\t\t\thorizontal_flip=True,\n",
    "\t\t\t\t\t\tfill_mode='nearest')\n",
    "\n",
    "myGene = trainGenerator(1, train_path,'image','label',data_gen_args,save_to_dir = generator_path, mask_color_mode = \"rgb\", decode_flag=True, target_size=(512,512)) #AQui\n",
    "\n",
    "model = get_small_unet(n_filters=64, bn = True, input_size=(512,512,1), output_channels = 3, loss_func = dice_coef_loss) ### AqUI!!!!!\n",
    "# model_checkpoint = ModelCheckpoint('unet_membrane.hdf5', monitor='loss',verbose=1, save_best_only=True)\n",
    "#tf.keras.utils.plot_model(model, show_shapes=True, show_layer_names=True)\n",
    "\n"
   ],
   "execution_count": null,
   "outputs": [
    {
     "output_type": "stream",
     "text": [
      "Model: \"functional_1\"\n",
      "__________________________________________________________________________________________________\n",
      "Layer (type)                    Output Shape         Param #     Connected to                     \n",
      "==================================================================================================\n",
      "input_1 (InputLayer)            [(None, 512, 512, 1) 0                                            \n",
      "__________________________________________________________________________________________________\n",
      "conv2d (Conv2D)                 (None, 512, 512, 64) 640         input_1[0][0]                    \n",
      "__________________________________________________________________________________________________\n",
      "batch_normalization (BatchNorma (None, 512, 512, 64) 256         conv2d[0][0]                     \n",
      "__________________________________________________________________________________________________\n",
      "conv2d_1 (Conv2D)               (None, 512, 512, 64) 36928       batch_normalization[0][0]        \n",
      "__________________________________________________________________________________________________\n",
      "batch_normalization_1 (BatchNor (None, 512, 512, 64) 256         conv2d_1[0][0]                   \n",
      "__________________________________________________________________________________________________\n",
      "max_pooling2d (MaxPooling2D)    (None, 256, 256, 64) 0           batch_normalization_1[0][0]      \n",
      "__________________________________________________________________________________________________\n",
      "conv2d_2 (Conv2D)               (None, 256, 256, 128 73856       max_pooling2d[0][0]              \n",
      "__________________________________________________________________________________________________\n",
      "batch_normalization_2 (BatchNor (None, 256, 256, 128 512         conv2d_2[0][0]                   \n",
      "__________________________________________________________________________________________________\n",
      "conv2d_3 (Conv2D)               (None, 256, 256, 128 147584      batch_normalization_2[0][0]      \n",
      "__________________________________________________________________________________________________\n",
      "batch_normalization_3 (BatchNor (None, 256, 256, 128 512         conv2d_3[0][0]                   \n",
      "__________________________________________________________________________________________________\n",
      "max_pooling2d_1 (MaxPooling2D)  (None, 128, 128, 128 0           batch_normalization_3[0][0]      \n",
      "__________________________________________________________________________________________________\n",
      "conv2d_4 (Conv2D)               (None, 128, 128, 256 295168      max_pooling2d_1[0][0]            \n",
      "__________________________________________________________________________________________________\n",
      "batch_normalization_4 (BatchNor (None, 128, 128, 256 1024        conv2d_4[0][0]                   \n",
      "__________________________________________________________________________________________________\n",
      "conv2d_5 (Conv2D)               (None, 128, 128, 256 590080      batch_normalization_4[0][0]      \n",
      "__________________________________________________________________________________________________\n",
      "batch_normalization_5 (BatchNor (None, 128, 128, 256 1024        conv2d_5[0][0]                   \n",
      "__________________________________________________________________________________________________\n",
      "max_pooling2d_2 (MaxPooling2D)  (None, 64, 64, 256)  0           batch_normalization_5[0][0]      \n",
      "__________________________________________________________________________________________________\n",
      "conv2d_6 (Conv2D)               (None, 64, 64, 512)  1180160     max_pooling2d_2[0][0]            \n",
      "__________________________________________________________________________________________________\n",
      "batch_normalization_6 (BatchNor (None, 64, 64, 512)  2048        conv2d_6[0][0]                   \n",
      "__________________________________________________________________________________________________\n",
      "conv2d_7 (Conv2D)               (None, 64, 64, 512)  2359808     batch_normalization_6[0][0]      \n",
      "__________________________________________________________________________________________________\n",
      "batch_normalization_7 (BatchNor (None, 64, 64, 512)  2048        conv2d_7[0][0]                   \n",
      "__________________________________________________________________________________________________\n",
      "max_pooling2d_3 (MaxPooling2D)  (None, 32, 32, 512)  0           batch_normalization_7[0][0]      \n",
      "__________________________________________________________________________________________________\n",
      "conv2d_8 (Conv2D)               (None, 32, 32, 1024) 4719616     max_pooling2d_3[0][0]            \n",
      "__________________________________________________________________________________________________\n",
      "batch_normalization_8 (BatchNor (None, 32, 32, 1024) 4096        conv2d_8[0][0]                   \n",
      "__________________________________________________________________________________________________\n",
      "conv2d_9 (Conv2D)               (None, 32, 32, 1024) 9438208     batch_normalization_8[0][0]      \n",
      "__________________________________________________________________________________________________\n",
      "batch_normalization_9 (BatchNor (None, 32, 32, 1024) 4096        conv2d_9[0][0]                   \n",
      "__________________________________________________________________________________________________\n",
      "up_sampling2d (UpSampling2D)    (None, 64, 64, 1024) 0           batch_normalization_9[0][0]      \n",
      "__________________________________________________________________________________________________\n",
      "concatenate (Concatenate)       (None, 64, 64, 1536) 0           up_sampling2d[0][0]              \n",
      "                                                                 batch_normalization_7[0][0]      \n",
      "__________________________________________________________________________________________________\n",
      "conv2d_10 (Conv2D)              (None, 64, 64, 512)  7078400     concatenate[0][0]                \n",
      "__________________________________________________________________________________________________\n",
      "batch_normalization_10 (BatchNo (None, 64, 64, 512)  2048        conv2d_10[0][0]                  \n",
      "__________________________________________________________________________________________________\n",
      "conv2d_11 (Conv2D)              (None, 64, 64, 512)  2359808     batch_normalization_10[0][0]     \n",
      "__________________________________________________________________________________________________\n",
      "batch_normalization_11 (BatchNo (None, 64, 64, 512)  2048        conv2d_11[0][0]                  \n",
      "__________________________________________________________________________________________________\n",
      "up_sampling2d_1 (UpSampling2D)  (None, 128, 128, 512 0           batch_normalization_11[0][0]     \n",
      "__________________________________________________________________________________________________\n",
      "conc_7 (Concatenate)            (None, 128, 128, 768 0           up_sampling2d_1[0][0]            \n",
      "                                                                 batch_normalization_5[0][0]      \n",
      "__________________________________________________________________________________________________\n",
      "conv2d_12 (Conv2D)              (None, 128, 128, 256 1769728     conc_7[0][0]                     \n",
      "__________________________________________________________________________________________________\n",
      "batch_normalization_12 (BatchNo (None, 128, 128, 256 1024        conv2d_12[0][0]                  \n",
      "__________________________________________________________________________________________________\n",
      "conv2d_13 (Conv2D)              (None, 128, 128, 256 590080      batch_normalization_12[0][0]     \n",
      "__________________________________________________________________________________________________\n",
      "batch_normalization_13 (BatchNo (None, 128, 128, 256 1024        conv2d_13[0][0]                  \n",
      "__________________________________________________________________________________________________\n",
      "up_sampling2d_2 (UpSampling2D)  (None, 256, 256, 256 0           batch_normalization_13[0][0]     \n",
      "__________________________________________________________________________________________________\n",
      "conc_8 (Concatenate)            (None, 256, 256, 384 0           up_sampling2d_2[0][0]            \n",
      "                                                                 batch_normalization_3[0][0]      \n",
      "__________________________________________________________________________________________________\n",
      "conv2d_14 (Conv2D)              (None, 256, 256, 128 442496      conc_8[0][0]                     \n",
      "__________________________________________________________________________________________________\n",
      "batch_normalization_14 (BatchNo (None, 256, 256, 128 512         conv2d_14[0][0]                  \n",
      "__________________________________________________________________________________________________\n",
      "conv2d_15 (Conv2D)              (None, 256, 256, 128 147584      batch_normalization_14[0][0]     \n",
      "__________________________________________________________________________________________________\n",
      "batch_normalization_15 (BatchNo (None, 256, 256, 128 512         conv2d_15[0][0]                  \n",
      "__________________________________________________________________________________________________\n",
      "up_sampling2d_3 (UpSampling2D)  (None, 512, 512, 128 0           batch_normalization_15[0][0]     \n",
      "__________________________________________________________________________________________________\n",
      "conc_9 (Concatenate)            (None, 512, 512, 192 0           up_sampling2d_3[0][0]            \n",
      "                                                                 batch_normalization_1[0][0]      \n",
      "__________________________________________________________________________________________________\n",
      "conv2d_16 (Conv2D)              (None, 512, 512, 64) 110656      conc_9[0][0]                     \n",
      "__________________________________________________________________________________________________\n",
      "batch_normalization_16 (BatchNo (None, 512, 512, 64) 256         conv2d_16[0][0]                  \n",
      "__________________________________________________________________________________________________\n",
      "conv2d_17 (Conv2D)              (None, 512, 512, 64) 36928       batch_normalization_16[0][0]     \n",
      "__________________________________________________________________________________________________\n",
      "batch_normalization_17 (BatchNo (None, 512, 512, 64) 256         conv2d_17[0][0]                  \n",
      "__________________________________________________________________________________________________\n",
      "conv2d_18 (Conv2D)              (None, 512, 512, 3)  195         batch_normalization_17[0][0]     \n",
      "==================================================================================================\n",
      "Total params: 31,401,475\n",
      "Trainable params: 31,389,699\n",
      "Non-trainable params: 11,776\n",
      "__________________________________________________________________________________________________\n",
      "None\n"
     ],
     "name": "stdout"
    }
   ]
  },
  {
   "cell_type": "code",
   "metadata": {
    "colab": {
     "base_uri": "https://localhost:8080/"
    },
    "id": "FWMmAPHnuku3",
    "outputId": "eaecc55c-e4f6-4092-99d8-d71c1a3a4a6c"
   },
   "source": [
    "#model.fit_generator(myGene,steps_per_epoch=300,epochs=10) # 300, 5\n",
    "model.fit(myGene,steps_per_epoch=300,epochs=10) # 300, 5\n",
    "\n",
    "testGene = testGenerator(test_path, target_size=(512,512))\n",
    "#results = model.predict_generator(testGene,16)\n",
    "results = model.predict(testGene,16)"
   ],
   "execution_count": null,
   "outputs": [
    {
     "output_type": "stream",
     "text": [
      "Found 33 images belonging to 1 classes.\n",
      "Found 33 images belonging to 1 classes.\n",
      "Epoch 1/10\n",
      "  2/300 [..............................] - ETA: 47s - loss: 0.3380 - categorical_accuracy: 0.3529WARNING:tensorflow:Callbacks method `on_train_batch_end` is slow compared to the batch time (batch time: 0.1215s vs `on_train_batch_end` time: 0.1957s). Check your callbacks.\n",
      "300/300 [==============================] - 93s 311ms/step - loss: 0.2396 - categorical_accuracy: 0.4431\n",
      "Epoch 2/10\n",
      "300/300 [==============================] - 94s 313ms/step - loss: 0.2246 - categorical_accuracy: 0.4129\n",
      "Epoch 3/10\n",
      "300/300 [==============================] - 94s 312ms/step - loss: 0.2211 - categorical_accuracy: 0.4073\n",
      "Epoch 4/10\n",
      "300/300 [==============================] - 94s 313ms/step - loss: 0.2188 - categorical_accuracy: 0.4029\n",
      "Epoch 5/10\n",
      "300/300 [==============================] - 93s 310ms/step - loss: 0.2173 - categorical_accuracy: 0.3975\n",
      "Epoch 6/10\n",
      "300/300 [==============================] - 93s 310ms/step - loss: 0.2168 - categorical_accuracy: 0.4036\n",
      "Epoch 7/10\n",
      "300/300 [==============================] - 93s 309ms/step - loss: 0.2154 - categorical_accuracy: 0.4162\n",
      "Epoch 8/10\n",
      "300/300 [==============================] - 93s 310ms/step - loss: 0.2149 - categorical_accuracy: 0.4192\n",
      "Epoch 9/10\n",
      "300/300 [==============================] - 93s 309ms/step - loss: 0.2143 - categorical_accuracy: 0.4196\n",
      "Epoch 10/10\n",
      "300/300 [==============================] - 92s 307ms/step - loss: 0.2139 - categorical_accuracy: 0.4224\n"
     ],
     "name": "stdout"
    }
   ]
  },
  {
   "cell_type": "code",
   "metadata": {
    "id": "P3HvDIWNOVx3"
   },
   "source": [
    "#model.summary()"
   ],
   "execution_count": null,
   "outputs": []
  },
  {
   "cell_type": "markdown",
   "metadata": {
    "id": "bWPNcyPgwl_2"
   },
   "source": [
    "### IOU\n",
    "---\n"
   ]
  },
  {
   "cell_type": "code",
   "metadata": {
    "id": "uPOE8fTaguPO"
   },
   "source": [
    "testGene = testGenerator(test_path, target_size=(512,512))\n",
    "\n",
    "results = model.predict(testGene,16) #tocat\n",
    "\n"
   ],
   "execution_count": null,
   "outputs": []
  },
  {
   "cell_type": "code",
   "metadata": {
    "id": "IIw2z80wvVXW"
   },
   "source": [
    "def get_iou(ground, prediction, th):\n",
    "  assert ground.shape[2] == prediction.shape[2]\n",
    "  \n",
    "  ground = ground.astype(np.float32) / ground.max()\n",
    "\n",
    "  ious = [0] * ground.shape[2]\n",
    "\n",
    "  for channel_idx in range(0, ground.shape[2]):\n",
    "    channel_gt = ground[:,:,channel_idx]\n",
    "    channel_pred = np.copy(prediction[:,:,channel_idx])\n",
    "    \n",
    "    channel_pred = cv2.resize(channel_pred, (channel_gt.shape[1], channel_gt.shape[0]), interpolation = cv2.INTER_AREA) \n",
    "\n",
    "    channel_pred[channel_pred <= th] = 0\n",
    "    channel_pred[channel_pred > th] = 255\n",
    "\n",
    "    aux = np.zeros_like(channel_gt)\n",
    "\n",
    "    intersection = cv2.bitwise_and(channel_gt, channel_pred)\n",
    "    intersection_area = np.count_nonzero(intersection)\n",
    "\n",
    "    union = cv2.bitwise_or(channel_gt, channel_pred)\n",
    "    union_area = np.count_nonzero(union)\n",
    "\n",
    "    ious[channel_idx] += round(intersection_area / union_area, 3)\n",
    "    \n",
    "  return ious"
   ],
   "execution_count": null,
   "outputs": []
  },
  {
   "cell_type": "code",
   "metadata": {
    "colab": {
     "base_uri": "https://localhost:8080/"
    },
    "id": "vh1u-AJDtS83",
    "outputId": "eff2fd58-55b0-41fe-e42d-278e04923e17"
   },
   "source": [
    "def iou(y_true, y_pred):\n",
    "    # y_pred = K.cast(K.greater(y_pred, .5), dtype='float32') # .5 is the threshold\n",
    "    \n",
    "    inter = K.sum(K.abs(y_true * y_pred), axis=-1)\n",
    "    union = ((K.sum(K.square(y_true),-1) + K.sum(K.square(y_pred),-1)) - inter)\n",
    "    return 1 - (inter / union)\n",
    "\n",
    "alpha = 0.5\n",
    "\n",
    "ious = []\n",
    "for idx, res in enumerate(results):\n",
    "  gt_image = cv2.imread(\"./unet_color_quatre/test/label/\" + str(idx) + \".png\")\n",
    "\n",
    "  gt_image = decode(gt_image)\n",
    "\n",
    "  iou = get_iou(gt_image, res, alpha)\n",
    "  ious.append(iou)\n",
    "  if idx < 10:\n",
    "    print(\"Image 0\"+ str(idx) + \": \" + str(iou))\n",
    "  else:\n",
    "    print(\"Image \"+ str(idx) + \": \" + str(iou))\n",
    "\n",
    "print(\"###########################################\")\n",
    "print(\"Mean: \", np.mean(ious, axis = 0))"
   ],
   "execution_count": null,
   "outputs": [
    {
     "output_type": "stream",
     "text": [
      "Image 00: [0.013, 0.78, 0.036]\n",
      "Image 01: [0.0, 0.617, 0.043]\n",
      "Image 02: [0.003, 0.774, 0.011]\n",
      "Image 03: [0.0, 0.63, 0.045]\n",
      "Image 04: [0.054, 0.697, 0.13]\n",
      "Image 05: [0.054, 0.475, 0.121]\n",
      "Image 06: [0.002, 0.761, 0.056]\n",
      "Image 07: [0.048, 0.694, 0.029]\n",
      "Image 08: [0.0, 0.756, 0.068]\n",
      "Image 09: [0.04, 0.7, 0.044]\n",
      "Image 10: [0.002, 0.604, 0.09]\n",
      "Image 11: [0.0, 0.723, 0.026]\n",
      "Image 12: [0.008, 0.699, 0.018]\n",
      "Image 13: [0.001, 0.753, 0.0]\n",
      "Image 14: [0.0, 0.753, 0.021]\n",
      "Image 15: [0.053, 0.684, 0.11]\n",
      "Image 16: [0.03, 0.727, 0.0]\n",
      "###########################################\n",
      "Mean:  [0.01811765 0.69570588 0.04988235]\n"
     ],
     "name": "stdout"
    }
   ]
  },
  {
   "cell_type": "code",
   "metadata": {
    "colab": {
     "base_uri": "https://localhost:8080/",
     "height": 35
    },
    "id": "it26DtBcGHnJ",
    "outputId": "1c73a3a6-e236-4277-df1b-9ccb4dcb10b0"
   },
   "source": [
    "res = results[2]\n",
    "plt.figure(1,(16,12))\n",
    "for res in results: \n",
    "  for i in range(0,3):\n",
    "  #plt.subplot(1,4, i+1)\n",
    "    r = res[:,:,i]\n",
    "    r[r < 0.5] = 0\n",
    "    r[r >= 0.5] = 1\n",
    "  #plt.imshow(res[:,:,i]);"
   ],
   "execution_count": null,
   "outputs": [
    {
     "output_type": "display_data",
     "data": {
      "text/plain": [
       "<Figure size 1152x864 with 0 Axes>"
      ]
     },
     "metadata": {
      "tags": []
     }
    }
   ]
  },
  {
   "cell_type": "code",
   "metadata": {
    "id": "P_VFRU5OeUXb"
   },
   "source": [
    "import os\n",
    "\n",
    "!rm -rf out/\n",
    "!mkdir out\n",
    "\n",
    "for idx, r in enumerate(results):\n",
    "  for c_idx in range(0, r.shape[2]):\n",
    "    path = \"./out/\" + str(c_idx) + \"/\"\n",
    "    if not os.path.exists(path): \n",
    "      os.makedirs(path)\n",
    "\n",
    "    cv2.imwrite(path + str(idx) + \".png\", r[:,:,c_idx]*255)"
   ],
   "execution_count": null,
   "outputs": []
  },
  {
   "cell_type": "code",
   "metadata": {
    "id": "M2qBqjpkgf_P",
    "colab": {
     "base_uri": "https://localhost:8080/",
     "height": 34
    },
    "outputId": "881a2ad8-dda2-4574-dc38-4679086bb33b"
   },
   "source": [
    "from google.colab import files\n",
    "\n",
    "!zip -r ./out.zip ./out > /dev/null\n",
    "files.download(\"./out.zip\");"
   ],
   "execution_count": null,
   "outputs": [
    {
     "output_type": "display_data",
     "data": {
      "application/javascript": [
       "\n",
       "    async function download(id, filename, size) {\n",
       "      if (!google.colab.kernel.accessAllowed) {\n",
       "        return;\n",
       "      }\n",
       "      const div = document.createElement('div');\n",
       "      const label = document.createElement('label');\n",
       "      label.textContent = `Downloading \"${filename}\": `;\n",
       "      div.appendChild(label);\n",
       "      const progress = document.createElement('progress');\n",
       "      progress.max = size;\n",
       "      div.appendChild(progress);\n",
       "      document.body.appendChild(div);\n",
       "\n",
       "      const buffers = [];\n",
       "      let downloaded = 0;\n",
       "\n",
       "      const channel = await google.colab.kernel.comms.open(id);\n",
       "      // Send a message to notify the kernel that we're ready.\n",
       "      channel.send({})\n",
       "\n",
       "      for await (const message of channel.messages) {\n",
       "        // Send a message to notify the kernel that we're ready.\n",
       "        channel.send({})\n",
       "        if (message.buffers) {\n",
       "          for (const buffer of message.buffers) {\n",
       "            buffers.push(buffer);\n",
       "            downloaded += buffer.byteLength;\n",
       "            progress.value = downloaded;\n",
       "          }\n",
       "        }\n",
       "      }\n",
       "      const blob = new Blob(buffers, {type: 'application/binary'});\n",
       "      const a = document.createElement('a');\n",
       "      a.href = window.URL.createObjectURL(blob);\n",
       "      a.download = filename;\n",
       "      div.appendChild(a);\n",
       "      a.click();\n",
       "      div.remove();\n",
       "    }\n",
       "  "
      ],
      "text/plain": [
       "<IPython.core.display.Javascript object>"
      ]
     },
     "metadata": {
      "tags": []
     }
    },
    {
     "output_type": "display_data",
     "data": {
      "application/javascript": [
       "download(\"download_738eef88-a638-4c8a-9bb0-418dee2f632e\", \"out.zip\", 6225513)"
      ],
      "text/plain": [
       "<IPython.core.display.Javascript object>"
      ]
     },
     "metadata": {
      "tags": []
     }
    }
   ]
  }
 ]
}